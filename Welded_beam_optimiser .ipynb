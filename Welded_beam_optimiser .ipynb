{
  "nbformat": 4,
  "nbformat_minor": 0,
  "metadata": {
    "colab": {
      "provenance": []
    },
    "kernelspec": {
      "name": "python3",
      "display_name": "Python 3"
    },
    "language_info": {
      "name": "python"
    }
  },
  "cells": [
    {
      "cell_type": "markdown",
      "source": [
        "## Imports"
      ],
      "metadata": {
        "id": "7EnPt0dmqjfg"
      }
    },
    {
      "cell_type": "code",
      "execution_count": null,
      "metadata": {
        "id": "JvWxjxN1qUYm"
      },
      "outputs": [],
      "source": [
        "import numpy as np\n",
        "import scipy.stats as stats\n",
        "import matplotlib.pyplot as plt"
      ]
    },
    {
      "cell_type": "markdown",
      "source": [
        "Defining the hyperparameters for use in the function calls in the rest of this notebook"
      ],
      "metadata": {
        "id": "JQqIFYxRWhvv"
      }
    },
    {
      "cell_type": "code",
      "source": [
        "n_variables = 4\n",
        "temperature = 10\n",
        "percent_bounds = 0.1\n",
        "lower_bound = np.array([0.125, 0.125, 0.1, 0.1])\n",
        "upper_bound = np.array([5.0, 5.0, 10.0, 10.0])\n",
        "# constraint handling parameters\n",
        "r = 20\n",
        "beta = 1\n",
        "inf = 1000000"
      ],
      "metadata": {
        "id": "IBwDeKHFWej6"
      },
      "execution_count": null,
      "outputs": []
    },
    {
      "cell_type": "markdown",
      "source": [
        "## Task 1 - implement functions"
      ],
      "metadata": {
        "id": "FWvnm1dPqdkC"
      }
    },
    {
      "cell_type": "code",
      "source": [
        "def objective_function(x):\n",
        "  x1 = x[0]\n",
        "  x2 = x[1]\n",
        "  x3 = x[2]\n",
        "  x4 = x[3]\n",
        "\n",
        "  calculation = 1.10471*(x1**2)*x2 + 0.04811*x3*x4*(14.0 + x2)\n",
        "  objective_function.count += 1\n",
        "  return calculation"
      ],
      "metadata": {
        "id": "T65n7vKoqro3"
      },
      "execution_count": null,
      "outputs": []
    },
    {
      "cell_type": "code",
      "source": [
        "def tau_prime_one(x):\n",
        "  x1 = x[0]\n",
        "  x2 = x[1]\n",
        "\n",
        "  calculation = (6000)/(np.sqrt(2)*x1*x2)\n",
        "  return calculation"
      ],
      "metadata": {
        "id": "sjplrq6B8Fpk"
      },
      "execution_count": null,
      "outputs": []
    },
    {
      "cell_type": "code",
      "source": [
        "def tau_prime_two(x):\n",
        "  x1 = x[0]\n",
        "  x2 = x[1]\n",
        "  x3 = x[2]\n",
        "\n",
        "  calculation = ((6000*(14+0.5*x2)*np.sqrt(0.25*(x2**2 + (x1 + x3)**2))) / \n",
        "                      (2*((0.707*x1*x2)*(((x2**2)/12)+0.25*((x1+x3)**2)))))\n",
        "  return calculation"
      ],
      "metadata": {
        "id": "mCixDSxj8Mjl"
      },
      "execution_count": null,
      "outputs": []
    },
    {
      "cell_type": "code",
      "source": [
        "def shear_stress(x):\n",
        "  x1 = x[0]\n",
        "  x2 = x[1]\n",
        "  x3 = x[2]\n",
        "\n",
        "  calculation = np.sqrt(\n",
        "      ((tau_prime_one(x)**2) + (tau_prime_two(x)**2)) + \n",
        "      ((x2*tau_prime_one(x)*tau_prime_two(x)) /\n",
        "      (np.sqrt(0.25*(x2**2 + (x1 + x3)**2))))\n",
        "      )\n",
        "  return calculation\n"
      ],
      "metadata": {
        "id": "q7cCSY0yzuTy"
      },
      "execution_count": null,
      "outputs": []
    },
    {
      "cell_type": "code",
      "source": [
        "def normal_stress(x):\n",
        "  x3 = x[2]\n",
        "  x4 = x[3]\n",
        "\n",
        "  calculation = 504000/((x3**2)*x4)\n",
        "  return calculation\n",
        "  "
      ],
      "metadata": {
        "id": "X1P3NzSC7Jwr"
      },
      "execution_count": null,
      "outputs": []
    },
    {
      "cell_type": "code",
      "source": [
        "def buckling_load(x):\n",
        "  x3 = x[2]\n",
        "  x4 = x[3]\n",
        "\n",
        "  calculation = 64746.022*(1-0.0282346*x3)*x3*x4**3\n",
        "  return calculation\n"
      ],
      "metadata": {
        "id": "E1HbehzhAsZ0"
      },
      "execution_count": null,
      "outputs": []
    },
    {
      "cell_type": "code",
      "source": [
        "def g1(x):\n",
        "  calc = 13600 - shear_stress(x)\n",
        "  g1.count += 1\n",
        "  return calc"
      ],
      "metadata": {
        "id": "2fEO0bJctoce"
      },
      "execution_count": null,
      "outputs": []
    },
    {
      "cell_type": "code",
      "source": [
        "def g2(x):\n",
        "  calc = 30000 - normal_stress(x)\n",
        "  g2.count += 1\n",
        "  return calc"
      ],
      "metadata": {
        "id": "5WEhiMSBFT80"
      },
      "execution_count": null,
      "outputs": []
    },
    {
      "cell_type": "code",
      "source": [
        "def g3(x):\n",
        "  x1 = x[0]\n",
        "  x4 = x[3]\n",
        "\n",
        "  calc = x4 - x1\n",
        "  g3.count += 1\n",
        "  return calc"
      ],
      "metadata": {
        "id": "Ypl7YvqhFUki"
      },
      "execution_count": null,
      "outputs": []
    },
    {
      "cell_type": "code",
      "source": [
        "def g4(x):\n",
        "  calc = buckling_load(x) - 6000\n",
        "  g4.count += 1\n",
        "  return calc"
      ],
      "metadata": {
        "id": "C199RU5ZFWQ2"
      },
      "execution_count": null,
      "outputs": []
    },
    {
      "cell_type": "markdown",
      "source": [
        "## Supporting Functions"
      ],
      "metadata": {
        "id": "AE72LWJTCm3c"
      }
    },
    {
      "cell_type": "code",
      "source": [
        "def reset_counters():\n",
        "  objective_function.count = 0\n",
        "  g1.count = 0\n",
        "  g2.count = 0\n",
        "  g3.count = 0\n",
        "  g4.count = 0"
      ],
      "metadata": {
        "id": "Ki02VOl5frHr"
      },
      "execution_count": null,
      "outputs": []
    },
    {
      "cell_type": "code",
      "source": [
        "def constraints_met(x):\n",
        "  # each index corresponds to a constraint and if it is met ([0] = g1())\n",
        "  # start by assuming no constraints are met\n",
        "  truth_arr = np.array([False, False, False, False])\n",
        "\n",
        "  # if a constraint is met the corresponding index in truth_arr is updated\n",
        "  if(g1(x) >= 0):\n",
        "    truth_arr[0] = True \n",
        "  if(g2(x) >= 0):\n",
        "    truth_arr[1] = True \n",
        "  if(g3(x) >= 0):\n",
        "    truth_arr[2] = True \n",
        "  if(g4(x) >= 0):\n",
        "    truth_arr[3] = True \n",
        "\n",
        "  return truth_arr\n"
      ],
      "metadata": {
        "id": "wcBrouE1GvlD"
      },
      "execution_count": null,
      "outputs": []
    },
    {
      "cell_type": "code",
      "source": [
        "# returns False if any value is out of bounds\n",
        "def bounds_met(x, lower_bound, upper_bound):\n",
        "  for x_index in range(4):\n",
        "    if (x[x_index] <= lower_bound[x_index] or x[x_index] >= upper_bound[x_index] ):\n",
        "      return False\n",
        "\n",
        "  return True"
      ],
      "metadata": {
        "id": "gkWHht4l25wT"
      },
      "execution_count": null,
      "outputs": []
    },
    {
      "cell_type": "markdown",
      "source": [
        "## Functions Test"
      ],
      "metadata": {
        "id": "aSCxBDa0jUx2"
      }
    },
    {
      "cell_type": "code",
      "source": [
        "reset_counters()\n",
        "x = np.array([1.05, 3.15, 4.43, 7.87])\n",
        "\n",
        "print(\"Objective funtion output: \", objective_function(x))\n",
        "print(\"First constraint funtion output: \", g1(x))\n",
        "print(\"Second constraint funtion output: \", g2(x))\n",
        "print(\"Third constraint funtion output: \", g3(x))\n",
        "print(\"Fourth constraint funtion output: \", g4(x))\n"
      ],
      "metadata": {
        "colab": {
          "base_uri": "https://localhost:8080/"
        },
        "id": "bn5mpyQ-3l1u",
        "outputId": "0cdab78e-8a16-4228-ddba-80f3376c5612"
      },
      "execution_count": null,
      "outputs": [
        {
          "output_type": "stream",
          "name": "stdout",
          "text": [
            "Objective funtion output:  32.6024179859\n",
            "First constraint funtion output:  5308.848564674312\n",
            "Second constraint funtion output:  26736.764990548952\n",
            "Third constraint funtion output:  6.82\n",
            "Fourth constraint funtion output:  122317448.61430933\n"
          ]
        }
      ]
    },
    {
      "cell_type": "markdown",
      "source": [
        "## Task 2 - Random Search"
      ],
      "metadata": {
        "id": "Ze9nBLTTBk48"
      }
    },
    {
      "cell_type": "code",
      "source": [
        "def death_penalty(x, inf):\n",
        "  constraints = constraints_met(x)\n",
        "  output = objective_function(x)\n",
        "\n",
        "  # if any constraints are voilated the death penalty is issued\n",
        "  if np.all(constraints):\n",
        "    return output\n",
        "  else:\n",
        "    return inf \n"
      ],
      "metadata": {
        "id": "Lgvot3WssAcA"
      },
      "execution_count": null,
      "outputs": []
    },
    {
      "cell_type": "code",
      "source": [
        "# random search implemented with death penalty constraint handling\n",
        "def random_search(k, lower_bound, upper_bound, inf, n_variables, seed):\n",
        "  # random generator based on seed\n",
        "  rng = np.random.RandomState(seed)\n",
        "  best_x = rng.uniform(lower_bound, upper_bound, n_variables)\n",
        "  best_f = death_penalty(best_x, inf)\n",
        "\n",
        "  for sample in range(0,k):\n",
        "    candidate_x = rng.uniform(lower_bound, upper_bound, n_variables)\n",
        "    # constraint handling with death penalty\n",
        "    candidate_f = death_penalty(candidate_x, inf) \n",
        "    # print(candidate_x)\n",
        "\n",
        "    if(candidate_f < best_f):\n",
        "      best_x = candidate_x\n",
        "      best_f = candidate_f\n",
        "  \n",
        "  return [best_x[0], best_x[1], best_x[2], best_x[3], best_f]"
      ],
      "metadata": {
        "id": "vw0ctwb5-KdD"
      },
      "execution_count": null,
      "outputs": []
    },
    {
      "cell_type": "markdown",
      "source": [
        "## Task 3 - Simulated Annealing"
      ],
      "metadata": {
        "id": "gzx7Kfo-BrOs"
      }
    },
    {
      "cell_type": "code",
      "source": [
        "def static_penalty(x, r, beta):\n",
        "  constraints = constraints_met(x)\n",
        "\n",
        "  # initialise with assuming no penalty and normal function\n",
        "  penalty_applied = objective_function(x)\n",
        "\n",
        "  # if a constraint is violated add the penalty of that constraint to the objective\n",
        "  if constraints[0] == False:\n",
        "    penalty_applied += static_function(x[0], g1(x), r, beta)\n",
        "  if constraints[1] == False:\n",
        "    penalty_applied += static_function(x[1], g2(x), r, beta)\n",
        "  if constraints[2] == False:\n",
        "    penalty_applied += static_function(x[2], g3(x), r, beta)\n",
        "  if constraints[3] == False:\n",
        "    penalty_applied += static_function(x[3], g4(x), r, beta)\n",
        "    \n",
        "  return penalty_applied\n",
        "\n"
      ],
      "metadata": {
        "id": "FzAPsQvZG5OV"
      },
      "execution_count": null,
      "outputs": []
    },
    {
      "cell_type": "code",
      "source": [
        "# simulated annealing implemented with static penalty constraint handling\n",
        "def simulated_annealing(n_iterations, lower_bound, upper_bound, percent_bounds, \n",
        "                        r, beta, n_variables, temp, seed):\n",
        "  # random generator based on seed\n",
        "  rng = np.random.RandomState(seed)\n",
        "  best_x = rng.uniform(lower_bound, upper_bound, n_variables)\n",
        "  best_f = static_penalty(best_x, r, beta)\n",
        "  candidate_x = best_x\n",
        "  candidate_f = best_f\n",
        "\n",
        "  for i in range(0, n_iterations):\n",
        "      prime_x = transition_distribution(candidate_x, lower_bound, upper_bound, \n",
        "                                        percent_bounds, n_variables, rng)\n",
        "      # constraint handling by static_penalty, \n",
        "      # acts like objective function if constraints not violated\n",
        "      prime_f = static_penalty(prime_x, r, beta)\n",
        "      change = prime_f - candidate_f\n",
        "\n",
        "      # using logarithmic decay\n",
        "      if (change <= 0) or (rng.uniform(0,1) < min(np.exp(-change/temp),1)):\n",
        "        candidate_x = prime_x\n",
        "        candidate_f = prime_f\n",
        "\n",
        "      if prime_f < best_f:\n",
        "        best_x = prime_x\n",
        "        best_f = prime_f\n",
        "\n",
        "  return [best_x[0], best_x[1], best_x[2], best_x[3], best_f]\n"
      ],
      "metadata": {
        "id": "OxqaLGZCjnT9"
      },
      "execution_count": null,
      "outputs": []
    },
    {
      "cell_type": "code",
      "source": [
        "def transition_distribution(mean, lower_bound, upper_bound, percent_bounds, n_variables, rng):\n",
        "  local_bounds = np.zeros(n_variables)\n",
        "\n",
        "  for i in range(len(lower_bound)):\n",
        "    local_bounds[i] = (upper_bound[i] - lower_bound[i]) * percent_bounds\n",
        "\n",
        "  covariance = np.array([[local_bounds[0], 0, 0, 0], \n",
        "                         [0, local_bounds[1], 0, 0], \n",
        "                         [0, 0, local_bounds[2], 0], \n",
        "                         [0, 0, 0, local_bounds[3]]])\n",
        "  \n",
        "  # initial attempt\n",
        "  random_result = rng.multivariate_normal(mean, covariance)\n",
        "  within_bounds = bounds_met(random_result, lower_bound, upper_bound)\n",
        "\n",
        "  # rejection sampling, quite inefficient but no multivariate truncnorm :/\n",
        "  while(within_bounds == False):\n",
        "    # trying again if sample is out of bounds\n",
        "    random_result = rng.multivariate_normal(mean, covariance)\n",
        "    within_bounds = bounds_met(random_result, lower_bound, upper_bound)\n",
        "\n",
        "  # found sample within bounds\n",
        "  return random_result"
      ],
      "metadata": {
        "id": "d4L_0h0eUgJQ"
      },
      "execution_count": null,
      "outputs": []
    },
    {
      "cell_type": "code",
      "source": [
        "def static_function(point, constraint_applied, r, beta):\n",
        "  # absolute (positive) value of the constraint result is used \n",
        "  # this is because we want our objective function to get larger\n",
        "  # when our constraint output is LESS than 0 (not met)\n",
        "  return (r * max(0, abs(constraint_applied))**beta)"
      ],
      "metadata": {
        "id": "6eVZ0VwxyoOR"
      },
      "execution_count": null,
      "outputs": []
    },
    {
      "cell_type": "markdown",
      "source": [
        "## Task 4 - Evaluation"
      ],
      "metadata": {
        "id": "XcLTv8l-Kb1x"
      }
    },
    {
      "cell_type": "markdown",
      "source": [
        "Showing that function evaluations do not exceed 10000 for a single run when k = 5000"
      ],
      "metadata": {
        "id": "oCiKgR9wfTiQ"
      }
    },
    {
      "cell_type": "code",
      "source": [
        "# number of iterations for both optimisers\n",
        "k = 5000\n",
        "# generate random seed between reasonable bounds\n",
        "seed = np.random.randint(100000)\n",
        "\n",
        "'''\n",
        "The reason i picked k = 5000 is because, due to my implementation of static \n",
        "penalty, it is theoretically possible that my simulated annealing algorithm \n",
        "could evaluate a constraint 2k times but it is super unlikely.\n",
        "'''\n",
        "\n",
        "# function evaluation counters set to 0\n",
        "reset_counters()\n",
        "\n",
        "print(\"RS result: \", random_search(k, lower_bound, upper_bound, inf, n_variables, seed))\n",
        "\n",
        "print (\"Objective function evaluations: \", objective_function.count)\n",
        "print (\"Constraint g1(x) evaluations: \", g1.count)\n",
        "print (\"Constraint g2(x) evaluations: \", g2.count)\n",
        "print (\"Constraint g3(x) evaluations: \", g3.count)\n",
        "print (\"Constraint g4(x) evaluations: \", g4.count)\n",
        "print(\"\\n\")\n",
        "\n",
        "# function evaluation counters set to 0\n",
        "reset_counters()\n",
        "\n",
        "print(\"SA result: \", simulated_annealing(k, lower_bound, upper_bound, percent_bounds, \n",
        "                                         r, beta, n_variables, temperature, seed))\n",
        "\n",
        "print (\"Objective function evaluations: \", objective_function.count)\n",
        "print (\"Constraint g1(x) evaluations: \", g1.count)\n",
        "print (\"Constraint g2(x) evaluations: \", g2.count)\n",
        "print (\"Constraint g3(x) evaluations: \", g3.count)\n",
        "print (\"Constraint g4(x) evaluations: \", g4.count)"
      ],
      "metadata": {
        "colab": {
          "base_uri": "https://localhost:8080/"
        },
        "id": "76X3JFH0hsm5",
        "outputId": "0b89596f-2e21-424a-e79d-d4b8243f232c"
      },
      "execution_count": null,
      "outputs": [
        {
          "output_type": "stream",
          "name": "stdout",
          "text": [
            "RS result:  [0.6858644326800653, 2.3509537549684625, 8.30456348099789, 0.7803670635743349, 6.3196460220452835]\n",
            "Objective function evaluations:  5001\n",
            "Constraint g1(x) evaluations:  5001\n",
            "Constraint g2(x) evaluations:  5001\n",
            "Constraint g3(x) evaluations:  5001\n",
            "Constraint g4(x) evaluations:  5001\n",
            "\n",
            "\n",
            "SA result:  [0.4202373560310514, 2.9711505828970144, 8.85856234127392, 0.4963688310768032, 4.169810084672065]\n",
            "Objective function evaluations:  5001\n",
            "Constraint g1(x) evaluations:  6040\n",
            "Constraint g2(x) evaluations:  5598\n",
            "Constraint g3(x) evaluations:  5968\n",
            "Constraint g4(x) evaluations:  5061\n"
          ]
        }
      ]
    },
    {
      "cell_type": "markdown",
      "source": [
        "**Run experiment and gather results for each optimiser**"
      ],
      "metadata": {
        "id": "LdGQYX3Bhs_7"
      }
    },
    {
      "cell_type": "code",
      "source": [
        "n_repeats = 21\n",
        "# used for generating a random seed on each run\n",
        "n_possible_seeds = 100000\n",
        "# run random searches and print best result\n",
        "rand_results = []\n",
        "for i in range(n_repeats):\n",
        "  rand_results.append(random_search(k, lower_bound, upper_bound, inf, n_variables,  \n",
        "                                    np.random.randint(n_possible_seeds))[4])\n",
        "print(\"best random search: \", min(rand_results))\n",
        "\n",
        "anneal_results = []\n",
        "for i in range(n_repeats):\n",
        "  anneal_results.append(simulated_annealing(k, lower_bound, upper_bound, percent_bounds, r, beta,\n",
        "                                            n_variables, temperature, np.random.randint(n_possible_seeds))[4])\n",
        "print(\"best annealing: \", min(anneal_results))\n"
      ],
      "metadata": {
        "colab": {
          "base_uri": "https://localhost:8080/"
        },
        "id": "WS7uYgyCeDRh",
        "outputId": "cdec6ca8-4b62-4adf-907b-5fc18d33726d"
      },
      "execution_count": null,
      "outputs": [
        {
          "output_type": "stream",
          "name": "stdout",
          "text": [
            "best random search:  3.4017898285473867\n",
            "best annealing:  3.150105307660348\n"
          ]
        }
      ]
    },
    {
      "cell_type": "markdown",
      "source": [
        "**Boxplot**"
      ],
      "metadata": {
        "id": "o7SYHvwLkx8R"
      }
    },
    {
      "cell_type": "code",
      "source": [
        "plt.boxplot([rand_results, anneal_results])\n",
        "plt.xticks([1,2], ['Random Search', 'Simulated Annealing'])\n",
        "plt.ylabel(\"Best Objective Value\")"
      ],
      "metadata": {
        "colab": {
          "base_uri": "https://localhost:8080/",
          "height": 282
        },
        "id": "HzR0jVsTk3Jg",
        "outputId": "62c40c64-ac29-4d07-b6e2-9b197b1a5c6d"
      },
      "execution_count": null,
      "outputs": [
        {
          "output_type": "execute_result",
          "data": {
            "text/plain": [
              "Text(0, 0.5, 'Best Objective Value')"
            ]
          },
          "metadata": {},
          "execution_count": 272
        },
        {
          "output_type": "display_data",
          "data": {
            "text/plain": [
              "<Figure size 432x288 with 1 Axes>"
            ],
            "image/png": "[encoded data removed]"
          },
          "metadata": {
            "needs_background": "light"
          }
        }
      ]
    },
    {
      "cell_type": "markdown",
      "source": [
        "The assumptions I am making for my analysis are:\n",
        "*   The results for each optimiser are normally distributed\n",
        "*   The results for RS(Random Search) and SA(Simulated Annealing) are independent\n",
        "*   The starting points for the *i*th run of RS is the same as the starting point for the *i*th run of SA (they are matched)\n",
        "\n",
        "\n",
        "From these assumptions and observing the boxplot a few naive observations that can be made are:\n",
        "*   On average, SA produces a better objective value than RS\n",
        "*   RS will sometimes outperform SA\n",
        "*   Because the mean for SA is better than RS, if given the choice, SA should be used over RS\n",
        "\n",
        "However, both of these optimisers are **stochastic** so these conclusions **cannot** be certain. I will carry out a statistical test to determine the significance of my findings and find the likelyhood that my conclusions are correct.\n"
      ],
      "metadata": {
        "id": "wYEMlbUilbMv"
      }
    },
    {
      "cell_type": "markdown",
      "source": [
        "**Hypothesis testing**"
      ],
      "metadata": {
        "id": "Qt21THOpfV_N"
      }
    },
    {
      "cell_type": "markdown",
      "source": [
        "Because the results of each optimiser are independent of one another, I am going to perform an un-paired mannwhitneyu test to find if there is statistical significance between the performance of random search and simulated annealing.\n",
        "\n",
        "Let the null hypothesis be that there is no difference between the performance of the optimisers: <br>\n",
        ">$p(RS(x)) = p(SA(x))$ <br> where $p() = performance$ measured by the distribution (mean and variance) of best objective values from 21 runs of the optimiser\n",
        "\n",
        "The alternate hypothesis is that the performance of simulated annealing is greater than that of random search:\n",
        ">$p(RS(x)) < p(SA(x))$\n",
        "\n",
        "For this test i assume $α = 0.025$ for a one-tailed test"
      ],
      "metadata": {
        "id": "GBXTiMtth3Lj"
      }
    },
    {
      "cell_type": "code",
      "source": [
        "# carry out Mann-Whitney U test and find p value\n",
        "U1, p = stats.mannwhitneyu(anneal_results, rand_results, alternative = \"less\")\n",
        "print(p)"
      ],
      "metadata": {
        "colab": {
          "base_uri": "https://localhost:8080/"
        },
        "id": "IbifG69yneTt",
        "outputId": "861dd468-fdff-45e0-e194-ec826a9de8cb"
      },
      "execution_count": null,
      "outputs": [
        {
          "output_type": "stream",
          "name": "stdout",
          "text": [
            "9.493758016944358e-06\n"
          ]
        }
      ]
    },
    {
      "cell_type": "markdown",
      "source": [
        "$ 9.494 \\times 10^{-5} < α$ <br>\n",
        "Therefore, we can **reject** the null hypothesis and can say with some confidence that when applied to the same probelm **SA** will likely perform **better** than **RS** and thus **SA** should be chosen."
      ],
      "metadata": {
        "id": "X5WGrBvxx-M0"
      }
    },
    {
      "cell_type": "markdown",
      "source": [
        "## Task3/4 - Proof seeding works"
      ],
      "metadata": {
        "id": "bj8jblTXr9oC"
      }
    },
    {
      "cell_type": "code",
      "source": [
        "seed = 1\n",
        "print(\"Random search repeated twice using seed = 1:\")\n",
        "print(random_search(k, lower_bound, upper_bound, inf, n_variables, seed))\n",
        "print(random_search(k, lower_bound, upper_bound, inf, n_variables, seed))\n",
        "\n",
        "print(\"Simulated annealing repeated twice using seed = 1:\")\n",
        "print(simulated_annealing(k, lower_bound, upper_bound, percent_bounds, r, beta, \n",
        "                    n_variables, temperature, seed))\n",
        "print(simulated_annealing(k, lower_bound, upper_bound, percent_bounds, r, beta, \n",
        "                    n_variables, temperature, seed))\n",
        "\n",
        "seed = 2\n",
        "print(\"Random search repeated twice using seed = 2:\")\n",
        "print(random_search(k, lower_bound, upper_bound, inf, n_variables, seed))\n",
        "print(random_search(k, lower_bound, upper_bound, inf, n_variables, seed))\n",
        "\n",
        "print(\"Simulated annealing repeated twice using seed = 2:\")\n",
        "print(simulated_annealing(k, lower_bound, upper_bound, percent_bounds, r, beta, \n",
        "                    n_variables, temperature, seed))\n",
        "print(simulated_annealing(k, lower_bound, upper_bound, percent_bounds, r, beta, \n",
        "                    n_variables, temperature, seed))"
      ],
      "metadata": {
        "colab": {
          "base_uri": "https://localhost:8080/"
        },
        "id": "d3H0csnrsDYh",
        "outputId": "7ed43f66-1407-480d-d53d-0149e0e289dc"
      },
      "execution_count": null,
      "outputs": [
        {
          "output_type": "stream",
          "name": "stdout",
          "text": [
            "Random search repeated twice using seed = 1:\n",
            "[0.5307913953317545, 4.8279379517070895, 5.0547394018232925, 0.8140562152485146, 5.2299232517034335]\n",
            "[0.5307913953317545, 4.8279379517070895, 5.0547394018232925, 0.8140562152485146, 5.2299232517034335]\n",
            "Simulated annealing repeated twice using seed = 1:\n",
            "[0.5356653162548561, 4.038817671424623, 5.841980431534224, 0.5337909990230916, 4.024013749230915]\n",
            "[0.5356653162548561, 4.038817671424623, 5.841980431534224, 0.5337909990230916, 4.024013749230915]\n",
            "Random search repeated twice using seed = 2:\n",
            "[0.33680620539582484, 3.962473741410996, 9.469963393879167, 0.46347208554408337, 4.289480971286838]\n",
            "[0.33680620539582484, 3.962473741410996, 9.469963393879167, 0.46347208554408337, 4.289480971286838]\n",
            "Simulated annealing repeated twice using seed = 2:\n",
            "[0.4651461106375443, 3.399541892892194, 6.96749128977918, 0.6099745025461076, 4.3701792537021875]\n",
            "[0.4651461106375443, 3.399541892892194, 6.96749128977918, 0.6099745025461076, 4.3701792537021875]\n"
          ]
        }
      ]
    }
  ]
}